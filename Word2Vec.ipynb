{
  "nbformat": 4,
  "nbformat_minor": 0,
  "metadata": {
    "colab": {
      "provenance": [],
      "mount_file_id": "1reA87wGBXF-91rJn6Vx_vNjTAfzO2XVT",
      "authorship_tag": "ABX9TyPuQjRRQwjwU3z3gzNE1J94",
      "include_colab_link": true
    },
    "kernelspec": {
      "name": "python3",
      "display_name": "Python 3"
    },
    "language_info": {
      "name": "python"
    }
  },
  "cells": [
    {
      "cell_type": "markdown",
      "metadata": {
        "id": "view-in-github",
        "colab_type": "text"
      },
      "source": [
        "<a href=\"https://colab.research.google.com/github/jashneet99/Punjabi-Word-Embedding-Using-Word2Vec/blob/main/Word2Vec.ipynb\" target=\"_parent\"><img src=\"https://colab.research.google.com/assets/colab-badge.svg\" alt=\"Open In Colab\"/></a>"
      ]
    },
    {
      "cell_type": "code",
      "execution_count": 2,
      "metadata": {
        "id": "xkSJ1xfpyiTF"
      },
      "outputs": [],
      "source": [
        "import codecs\n",
        "import glob\n",
        "import logging\n",
        "import multiprocessing\n",
        "import os\n",
        "import pprint\n",
        "import re"
      ]
    },
    {
      "cell_type": "code",
      "source": [
        "import nltk\n",
        "import gensim.models.word2vec as w2v\n",
        "import gensim\n",
        "import sklearn.manifold\n",
        "import numpy as np\n",
        "import matplotlib.pyplot as plt\n",
        "import pandas as pd\n",
        "import seaborn as sns"
      ],
      "metadata": {
        "id": "b9v0j5huyvm-"
      },
      "execution_count": 3,
      "outputs": []
    },
    {
      "cell_type": "code",
      "source": [
        "book_filenames = sorted(glob.glob('/content/drive/MyDrive/final_pun.pa'))\n",
        "print(\"Found books:\")\n",
        "book_filenames"
      ],
      "metadata": {
        "colab": {
          "base_uri": "https://localhost:8080/"
        },
        "id": "RuDkJ0Qxyvpq",
        "outputId": "d8681f11-1d14-4ddf-b1d6-571172fd3fd6"
      },
      "execution_count": 4,
      "outputs": [
        {
          "output_type": "stream",
          "name": "stdout",
          "text": [
            "Found books:\n"
          ]
        },
        {
          "output_type": "execute_result",
          "data": {
            "text/plain": [
              "['/content/drive/MyDrive/final_pun.pa']"
            ]
          },
          "metadata": {},
          "execution_count": 4
        }
      ]
    },
    {
      "cell_type": "code",
      "source": [
        "corpus_raw = u\"\"\n",
        "for book_filename in book_filenames:\n",
        "    print(\"Reading '{0}'...\".format(book_filename))\n",
        "    with codecs.open(book_filename, \"r\", \"utf-8\") as book_file:\n",
        "        corpus_raw += book_file.read()\n",
        "    print(\"Corpus is now {0} characters long\".format(len(corpus_raw)))\n",
        "    print()"
      ],
      "metadata": {
        "colab": {
          "base_uri": "https://localhost:8080/"
        },
        "id": "-4veCtFsyvr8",
        "outputId": "c65f97b0-792c-4b09-da13-5c54bfdfc5ac"
      },
      "execution_count": 5,
      "outputs": [
        {
          "output_type": "stream",
          "name": "stdout",
          "text": [
            "Reading '/content/drive/MyDrive/final_pun.pa'...\n",
            "Corpus is now 229856574 characters long\n",
            "\n"
          ]
        }
      ]
    },
    {
      "cell_type": "code",
      "source": [
        "import re\n",
        "text = re.sub(r'[\\[\\]()₹$.\\n’‘”|\\u200b\\'\\-_+\\=!?:,a-zA-Z\\d]+', '', corpus_raw)"
      ],
      "metadata": {
        "id": "68TFfzsKyvvB"
      },
      "execution_count": 6,
      "outputs": []
    },
    {
      "cell_type": "code",
      "source": [
        "text = text.replace(\"।\", \".\")"
      ],
      "metadata": {
        "id": "u-einHBByvyp"
      },
      "execution_count": 7,
      "outputs": []
    },
    {
      "cell_type": "code",
      "source": [
        "def tokenize(sentences):\n",
        "    corpus = list(sentences.split('.'))\n",
        "    for i in corpus:\n",
        "        i.replace('\\n',' ')\n",
        "    return corpus"
      ],
      "metadata": {
        "id": "DGjKlIJa0jST"
      },
      "execution_count": 8,
      "outputs": []
    },
    {
      "cell_type": "code",
      "source": [
        "raw_sentences = tokenize(text)"
      ],
      "metadata": {
        "id": "ocVtksTP0jVK"
      },
      "execution_count": 9,
      "outputs": []
    },
    {
      "cell_type": "code",
      "source": [
        "sentences = []\n",
        "for raw_sentence in raw_sentences:\n",
        "    if len(raw_sentence) > 0:\n",
        "        #sentences.append(sentence_to_wordlist(raw_sentence))\n",
        "        sentences.append(raw_sentence.split())\n",
        "#print(raw_sentences[5])\n",
        "#print(sentence_to_wordlist(raw_sentences[5]))"
      ],
      "metadata": {
        "id": "48q9ZZ4k0rma"
      },
      "execution_count": 10,
      "outputs": []
    },
    {
      "cell_type": "code",
      "source": [
        "model = gensim.models.Word2Vec(sentences, min_count=5)\n",
        "model.save(\"w2v_model1\")"
      ],
      "metadata": {
        "id": "CnhZ03kz0rqF"
      },
      "execution_count": 12,
      "outputs": []
    },
    {
      "cell_type": "code",
      "source": [
        "model = gensim.models.Word2Vec.load('w2v_model1')"
      ],
      "metadata": {
        "id": "tR19U64-0jZP"
      },
      "execution_count": 13,
      "outputs": []
    },
    {
      "cell_type": "code",
      "source": [
        "print(\"Word2Vec vocabulary length:\", len(model.wv.index_to_key))"
      ],
      "metadata": {
        "colab": {
          "base_uri": "https://localhost:8080/"
        },
        "id": "HJDw97n33pjO",
        "outputId": "25221f64-8866-4169-bfad-ae1530e5090e"
      },
      "execution_count": 14,
      "outputs": [
        {
          "output_type": "stream",
          "name": "stdout",
          "text": [
            "Word2Vec vocabulary length: 108259\n"
          ]
        }
      ]
    },
    {
      "cell_type": "code",
      "source": [
        "model.wv.most_similar(\"ਮੰਗਲਵਾਰ\")"
      ],
      "metadata": {
        "colab": {
          "base_uri": "https://localhost:8080/"
        },
        "id": "T56X513_3yrY",
        "outputId": "2f3aba58-78b6-462c-e731-efadde087c0b"
      },
      "execution_count": 15,
      "outputs": [
        {
          "output_type": "execute_result",
          "data": {
            "text/plain": [
              "[('ਬੁੱਧਵਾਰ', 0.9664933085441589),\n",
              " ('ਵੀਰਵਾਰ', 0.9640177488327026),\n",
              " ('ਸ਼ੁੱਕਰਵਾਰ', 0.9605782628059387),\n",
              " ('ਸੋਮਵਾਰ', 0.9600200057029724),\n",
              " ('ਸ਼ਨਿਚਰਵਾਰ', 0.9490048885345459),\n",
              " ('ਐਤਵਾਰ', 0.904866099357605),\n",
              " ('ਸ਼ਨੀਵਾਰ', 0.8900322318077087),\n",
              " ('ਸ਼ਨਿੱਚਰਵਾਰ', 0.8798447847366333),\n",
              " ('ਅੈਤਵਾਰ', 0.7879533767700195),\n",
              " ('ਫਰਵਰੀ', 0.7219785451889038)]"
            ]
          },
          "metadata": {},
          "execution_count": 15
        }
      ]
    },
    {
      "cell_type": "code",
      "source": [],
      "metadata": {
        "id": "xLchbt7M34XG"
      },
      "execution_count": null,
      "outputs": []
    }
  ]
}